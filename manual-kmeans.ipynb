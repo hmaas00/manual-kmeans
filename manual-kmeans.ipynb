{
 "cells": [
  {
   "cell_type": "code",
   "execution_count": 318,
   "metadata": {},
   "outputs": [],
   "source": [
    "from sklearn.datasets import make_blobs\n",
    "import matplotlib.pyplot as plt\n",
    "\n",
    "from matplotlib import style\n",
    "style.use('ggplot')\n",
    "\n",
    "import numpy as np"
   ]
  },
  {
   "cell_type": "code",
   "execution_count": 361,
   "metadata": {},
   "outputs": [],
   "source": [
    "data,labels = make_blobs(n_samples=10000,n_features=2,cluster_std=1)"
   ]
  },
  {
   "cell_type": "code",
   "execution_count": 362,
   "metadata": {},
   "outputs": [
    {
     "data": {
      "image/png": "[encoded data removed]",
      "text/plain": [
       "<Figure size 432x288 with 1 Axes>"
      ]
     },
     "metadata": {},
     "output_type": "display_data"
    }
   ],
   "source": [
    "plt.scatter(data[:,0],data[:,1]);"
   ]
  },
  {
   "cell_type": "code",
   "execution_count": 372,
   "metadata": {},
   "outputs": [],
   "source": [
    "k = 3\n",
    "tol = 0.000000001\n",
    "max_iter = 300"
   ]
  },
  {
   "cell_type": "code",
   "execution_count": 373,
   "metadata": {},
   "outputs": [],
   "source": [
    "centroids = {}\n",
    "\n",
    "## inicializando os centroids com os 3 primeiros valores de data\n",
    "for i in range(k):\n",
    "    centroids[i] = data[i]"
   ]
  },
  {
   "cell_type": "code",
   "execution_count": 374,
   "metadata": {},
   "outputs": [
    {
     "name": "stdout",
     "output_type": "stream",
     "text": [
      "{0: array([-1.29079479, -8.28838212]), 1: array([5.10864983, 5.8794518 ]), 2: array([ 6.56477209, -4.97280327])}\n",
      "4.513734039181113\n",
      "{0: array([-1.29079479, -8.28838212]), 1: array([4.78343234, 8.22357811]), 2: array([ 6.51864127, -4.54932779])}\n",
      "33.503794471193075\n",
      "Optmized\n"
     ]
    },
    {
     "data": {
      "image/png": "[encoded data removed]",
      "text/plain": [
       "<Figure size 432x288 with 1 Axes>"
      ]
     },
     "metadata": {},
     "output_type": "display_data"
    }
   ],
   "source": [
    "for i in range(max_iter):\n",
    "    \n",
    "    classification = {}\n",
    "    \n",
    "    for i in range(k):\n",
    "        classification[i] = []\n",
    "        \n",
    "    for point in data:\n",
    "        distance = [math.sqrt((centroid[0] - point[0])**2 + (centroid[1] - point[1])**2) for centroid in centroids.values()]\n",
    "        point_label = np.argmin(distance)\n",
    "        classification[point_label].append(point)\n",
    "        \n",
    "    prev_centroids = dict(centroids)\n",
    "    \n",
    "    for label in classification:\n",
    "        centroids[label] = np.average(classification[label],axis=0)\n",
    "        \n",
    "    \n",
    "    optmized = True\n",
    "    \n",
    "    for label in centroids:\n",
    "        \n",
    "        original_centroid = prev_centroids[label]\n",
    "        \n",
    "        current_centroid = centroids[label]\n",
    "        \n",
    "        \n",
    "        if np.sum((current_centroid - original_centroid)/ original_centroid *100.0) > tol:\n",
    "            \n",
    "            print(centroids)\n",
    "            print(np.sum((current_centroid - original_centroid)/ original_centroid *100.0))\n",
    "            \n",
    "            \n",
    "            optmized = False\n",
    "    \n",
    "    if optmized:\n",
    "        print('Optmized')\n",
    "        \n",
    "        plt.scatter(data[:,0],data[:,1])\n",
    "        for label in centroids.values():\n",
    "            plt.scatter(x=label[0],y=label[1])\n",
    "        \n",
    "        break    "
   ]
  },
  {
   "cell_type": "code",
   "execution_count": 321,
   "metadata": {},
   "outputs": [
    {
     "data": {
      "text/html": [
       "<div>\n",
       "<style scoped>\n",
       "    .dataframe tbody tr th:only-of-type {\n",
       "        vertical-align: middle;\n",
       "    }\n",
       "\n",
       "    .dataframe tbody tr th {\n",
       "        vertical-align: top;\n",
       "    }\n",
       "\n",
       "    .dataframe thead th {\n",
       "        text-align: right;\n",
       "    }\n",
       "</style>\n",
       "<table border=\"1\" class=\"dataframe\">\n",
       "  <thead>\n",
       "    <tr style=\"text-align: right;\">\n",
       "      <th></th>\n",
       "      <th>county</th>\n",
       "      <th>cases</th>\n",
       "      <th>deaths</th>\n",
       "    </tr>\n",
       "  </thead>\n",
       "  <tbody>\n",
       "    <tr>\n",
       "      <th>0</th>\n",
       "      <td>Abbeville</td>\n",
       "      <td>84</td>\n",
       "      <td>0</td>\n",
       "    </tr>\n",
       "    <tr>\n",
       "      <th>1</th>\n",
       "      <td>Acadia</td>\n",
       "      <td>741</td>\n",
       "      <td>21</td>\n",
       "    </tr>\n",
       "    <tr>\n",
       "      <th>2</th>\n",
       "      <td>Accomack</td>\n",
       "      <td>116</td>\n",
       "      <td>0</td>\n",
       "    </tr>\n",
       "    <tr>\n",
       "      <th>3</th>\n",
       "      <td>Ada</td>\n",
       "      <td>4264</td>\n",
       "      <td>41</td>\n",
       "    </tr>\n",
       "    <tr>\n",
       "      <th>4</th>\n",
       "      <td>Adair</td>\n",
       "      <td>325</td>\n",
       "      <td>8</td>\n",
       "    </tr>\n",
       "  </tbody>\n",
       "</table>\n",
       "</div>"
      ],
      "text/plain": [
       "      county  cases  deaths\n",
       "0  Abbeville     84       0\n",
       "1     Acadia    741      21\n",
       "2   Accomack    116       0\n",
       "3        Ada   4264      41\n",
       "4      Adair    325       8"
      ]
     },
     "execution_count": 321,
     "metadata": {},
     "output_type": "execute_result"
    }
   ],
   "source": [
    "import pandas as pd\n",
    "import matplotlib.pyplot as plt\n",
    "import numpy as np\n",
    "\n",
    "df = pd.read_csv('/home/nasserboan/projetos/unsup/data/meu_dataset.csv')\n",
    "#df.drop(df[df.cases > 200].index,axis=0,inplace=True)\n",
    "df.head()"
   ]
  },
  {
   "cell_type": "code",
   "execution_count": 322,
   "metadata": {},
   "outputs": [],
   "source": [
    "from scipy.spatial.distance import euclidean\n",
    "import numpy as np\n",
    "\n",
    "class MyKMeans:\n",
    "    def __init__(self,k=3,max_iter=300,tol=0.0001,method='inertia',data=None):\n",
    "        self.k = k\n",
    "        self.max_iter = max_iter\n",
    "        self.tol = tol\n",
    "        self.method = method\n",
    "        self.data = data\n",
    "        \n",
    "        \n",
    "    def _initialize_centroids(self):\n",
    "        \n",
    "        quant_quantis = 1/self.k\n",
    "        \n",
    "        initial_centroids = []\n",
    "        \n",
    "        for k in range(1,self.k+1):\n",
    "            \n",
    "            initial_centroids.append([np.quantile(self.data[:,0],k*quant_quantis),np.quantile(self.data[:,1],k*quant_quantis)])\n",
    "            \n",
    "        return np.array(initial_centroids)\n",
    "    \n",
    "    \n",
    "    def fit_k_means(self):\n",
    "        \n",
    "        centroids = self._initialize_centroids()\n",
    "        \n",
    "        ## iterando sobre a quantidade max_iter\n",
    "        for n_iter in range(self.max_iter):\n",
    "            \n",
    "            ## criando os clusters\n",
    "            classification = {}\n",
    "            \n",
    "            for cluster in range(self.k):\n",
    "                classification[cluster] = []\n",
    "            \n",
    "            ## calculando as distancias\n",
    "            for point in self.data:\n",
    "                distancias = [euclidean(point,centroid) for centroid in centroids]\n",
    "                \n",
    "                ## achando o indice do menor valor na lista distancias\n",
    "                cluster = np.argmin(distancias)\n",
    "                \n",
    "                ## adicionando esse ponto ao cluster \n",
    "                classification[cluster].append([value for value in point])\n",
    "            \n",
    "            ## salvando o centroids\n",
    "            \n",
    "            ## atribuindo novos centroids\n",
    "            for cluster in classification:\n",
    "                centroids[cluster] = np.mean(classification[cluster],axis=0)\n",
    "            \n",
    "            ## TODO\n",
    "            \n",
    "            ## implementar parada\n",
    "            ## criar gif animado\n",
    "            ## criar metodo relatório\n",
    "            \n",
    "            \n",
    "        \n",
    "        plt.scatter(x = self.data[:,0],y = self.data[:,1],c = 'orange')    \n",
    "        plt.scatter(x = centroids[:,0],y = centroids[:,1],c=['red','blue','black'],marker='X',s=150)\n",
    "        \n",
    "        \n",
    "            \n",
    "            ## parando\n",
    "            \n",
    "#             plt.cla()\n",
    "#             ax = plt.scatter(x = centroids[:,0],y = centroids[:,1],c=['red','blue','black'])\n",
    "# #             ax.set_ylim(0,150)\n",
    "# #             ax.set_xlim(0,5)\n",
    "#             fig = ax.get_figure()\n",
    "#             fig.savefig(f'images/{n_iter}.png')"
   ]
  },
  {
   "cell_type": "code",
   "execution_count": 323,
   "metadata": {},
   "outputs": [
    {
     "data": {
      "image/png": "[encoded data removed]",
      "text/plain": [
       "<Figure size 432x288 with 1 Axes>"
      ]
     },
     "metadata": {
      "needs_background": "light"
     },
     "output_type": "display_data"
    }
   ],
   "source": [
    "MyKMeans(k=3,data = df[['cases','deaths']].values,max_iter = 200).fit_k_means()"
   ]
  },
  {
   "cell_type": "code",
   "execution_count": 325,
   "metadata": {},
   "outputs": [
    {
     "data": {
      "text/plain": [
       "<matplotlib.collections.PathCollection at 0x7f5e1c85c7d0>"
      ]
     },
     "execution_count": 325,
     "metadata": {},
     "output_type": "execute_result"
    },
    {
     "data": {
      "image/png": "[encoded data removed]",
      "text/plain": [
       "<Figure size 432x288 with 1 Axes>"
      ]
     },
     "metadata": {
      "needs_background": "light"
     },
     "output_type": "display_data"
    }
   ],
   "source": [
    "from sklearn.cluster import KMeans\n",
    "\n",
    "data = df[['cases','deaths']].values\n",
    "plt.scatter(x = data[:,0],y = data[:,1],c = 'orange')\n",
    "\n",
    "centroids = KMeans(3,max_iter=200,tol=0.0001).fit(data).cluster_centers_\n",
    "plt.scatter(x = centroids[:,0],y = centroids[:,1],c=['red','black','blue'],marker='X',s=150)"
   ]
  },
  {
   "cell_type": "code",
   "execution_count": null,
   "metadata": {},
   "outputs": [],
   "source": []
  },
  {
   "cell_type": "code",
   "execution_count": null,
   "metadata": {},
   "outputs": [],
   "source": []
  },
  {
   "cell_type": "code",
   "execution_count": null,
   "metadata": {},
   "outputs": [],
   "source": []
  },
  {
   "cell_type": "code",
   "execution_count": null,
   "metadata": {},
   "outputs": [],
   "source": []
  },
  {
   "cell_type": "code",
   "execution_count": null,
   "metadata": {},
   "outputs": [],
   "source": []
  },
  {
   "cell_type": "code",
   "execution_count": 306,
   "metadata": {},
   "outputs": [
    {
     "name": "stderr",
     "output_type": "stream",
     "text": [
      "t:   4%|▍         | 9/201 [00:00<00:02, 86.99it/s, now=None]"
     ]
    },
    {
     "name": "stdout",
     "output_type": "stream",
     "text": [
      "MoviePy - Building file COVID.gif.gif with imageio.\n"
     ]
    },
    {
     "name": "stderr",
     "output_type": "stream",
     "text": [
      "                                                              \r"
     ]
    }
   ],
   "source": [
    "import glob\n",
    "import moviepy.editor as mpy\n",
    "\n",
    "gif_name = 'COVID.gif'\n",
    "fps = 3\n",
    "file_list = glob.glob('images/*')\n",
    "clip = mpy.ImageSequenceClip(file_list, fps=fps)\n",
    "clip.write_gif('{}.gif'.format(gif_name), fps=fps)"
   ]
  },
  {
   "cell_type": "code",
   "execution_count": 260,
   "metadata": {},
   "outputs": [
    {
     "data": {
      "text/plain": [
       "(array([[ 21.14688129,   0.51911469],\n",
       "        [ 75.38683128,   1.63374486],\n",
       "        [153.50649351,   3.99350649]]),\n",
       " array([[ 21.14688129,   0.51911469],\n",
       "        [ 75.38683128,   1.63374486],\n",
       "        [153.50649351,   3.99350649]]))"
      ]
     },
     "execution_count": 260,
     "metadata": {},
     "output_type": "execute_result"
    }
   ],
   "source": [
    "centroids,prev_centroids"
   ]
  },
  {
   "cell_type": "code",
   "execution_count": 275,
   "metadata": {},
   "outputs": [
    {
     "name": "stdout",
     "output_type": "stream",
     "text": [
      "Collecting moviepy\n",
      "  Downloading moviepy-1.0.2.tar.gz (7.8 MB)\n",
      "\u001b[K     |████████████████████████████████| 7.8 MB 6.7 MB/s eta 0:00:01\n",
      "\u001b[?25hRequirement already satisfied: decorator<5.0,>=4.0.2 in /home/nasserboan/miniconda3/lib/python3.7/site-packages (from moviepy) (4.4.1)\n",
      "Requirement already satisfied: tqdm<5.0,>=4.11.2 in /home/nasserboan/miniconda3/lib/python3.7/site-packages (from moviepy) (4.42.0)\n",
      "Requirement already satisfied: requests<3.0,>=2.8.1 in /home/nasserboan/miniconda3/lib/python3.7/site-packages (from moviepy) (2.22.0)\n",
      "Collecting proglog<=1.0.0\n",
      "  Downloading proglog-0.1.9.tar.gz (10 kB)\n",
      "Requirement already satisfied: numpy>=1.17.3 in /home/nasserboan/miniconda3/lib/python3.7/site-packages (from moviepy) (1.18.2)\n",
      "Collecting imageio<3.0,>=2.5\n",
      "  Downloading imageio-2.8.0-py3-none-any.whl (3.3 MB)\n",
      "\u001b[K     |████████████████████████████████| 3.3 MB 6.1 MB/s eta 0:00:01\n",
      "\u001b[?25hCollecting imageio_ffmpeg>=0.2.0\n",
      "  Downloading imageio_ffmpeg-0.4.1-py3-none-manylinux2010_x86_64.whl (22.2 MB)\n",
      "\u001b[K     |████████████████████████████████| 22.2 MB 4.2 MB/s eta 0:00:011\n",
      "\u001b[?25hRequirement already satisfied: idna<2.9,>=2.5 in /home/nasserboan/miniconda3/lib/python3.7/site-packages (from requests<3.0,>=2.8.1->moviepy) (2.8)\n",
      "Requirement already satisfied: urllib3!=1.25.0,!=1.25.1,<1.26,>=1.21.1 in /home/nasserboan/miniconda3/lib/python3.7/site-packages (from requests<3.0,>=2.8.1->moviepy) (1.25.8)\n",
      "Requirement already satisfied: certifi>=2017.4.17 in /home/nasserboan/miniconda3/lib/python3.7/site-packages (from requests<3.0,>=2.8.1->moviepy) (2019.11.28)\n",
      "Requirement already satisfied: chardet<3.1.0,>=3.0.2 in /home/nasserboan/miniconda3/lib/python3.7/site-packages (from requests<3.0,>=2.8.1->moviepy) (3.0.4)\n",
      "Requirement already satisfied: pillow in /home/nasserboan/miniconda3/lib/python3.7/site-packages (from imageio<3.0,>=2.5->moviepy) (6.1.0)\n",
      "Building wheels for collected packages: moviepy, proglog\n",
      "  Building wheel for moviepy (setup.py) ... \u001b[?25ldone\n",
      "\u001b[?25h  Created wheel for moviepy: filename=moviepy-1.0.2-py3-none-any.whl size=110729 sha256=e5475304fba12277336e8a6016ce60d3c6b446d349737c64f5ac50ddeaa4a32f\n",
      "  Stored in directory: /home/nasserboan/.cache/pip/wheels/f0/36/f2/32c37d2b7a4f04622ccec875f71ebf5f33f892cea410f26454\n",
      "  Building wheel for proglog (setup.py) ... \u001b[?25ldone\n",
      "\u001b[?25h  Created wheel for proglog: filename=proglog-0.1.9-py3-none-any.whl size=6146 sha256=7989da129f683ce123c6ed595959a65631de86a890e104f92710ac16a91e45d2\n",
      "  Stored in directory: /home/nasserboan/.cache/pip/wheels/12/36/1f/dc61e6ac10781d63cf6fa045eb09fa613a667384e12cb6e6e0\n",
      "Successfully built moviepy proglog\n",
      "Installing collected packages: proglog, imageio, imageio-ffmpeg, moviepy\n",
      "Successfully installed imageio-2.8.0 imageio-ffmpeg-0.4.1 moviepy-1.0.2 proglog-0.1.9\n"
     ]
    }
   ],
   "source": [
    "!pip install moviepy"
   ]
  },
  {
   "cell_type": "code",
   "execution_count": null,
   "metadata": {},
   "outputs": [],
   "source": []
  },
  {
   "cell_type": "code",
   "execution_count": null,
   "metadata": {},
   "outputs": [],
   "source": []
  },
  {
   "cell_type": "code",
   "execution_count": 115,
   "metadata": {},
   "outputs": [
    {
     "data": {
      "text/plain": [
       "<matplotlib.collections.PathCollection at 0x7f5e5c760b10>"
      ]
     },
     "execution_count": 115,
     "metadata": {},
     "output_type": "execute_result"
    },
    {
     "data": {
      "image/png": "[encoded data removed]",
      "text/plain": [
       "<Figure size 432x288 with 1 Axes>"
      ]
     },
     "metadata": {
      "needs_background": "light"
     },
     "output_type": "display_data"
    }
   ],
   "source": [
    "plt.scatter(df.cases,df.deaths)\n",
    "plt.scatter(x = MyKMeans(k=5,data = df[['cases','deaths']].values)._initialize_centroids()[:,0],y = MyKMeans(k=5,data = df[['cases','deaths']].values)._initialize_centroids()[:,1],c='r')"
   ]
  },
  {
   "cell_type": "code",
   "execution_count": 95,
   "metadata": {},
   "outputs": [
    {
     "data": {
      "text/plain": [
       "array([2.50000e+01, 7.36000e+01, 2.31000e+02, 1.02220e+03, 8.68824e+05])"
      ]
     },
     "execution_count": 95,
     "metadata": {},
     "output_type": "execute_result"
    }
   ],
   "source": [
    "MyKMeans(k=5,data = df[['cases','deaths']].values)._initialize_centroids()[:,0]"
   ]
  },
  {
   "cell_type": "code",
   "execution_count": 116,
   "metadata": {},
   "outputs": [
    {
     "data": {
      "text/plain": [
       "<function iter>"
      ]
     },
     "execution_count": 116,
     "metadata": {},
     "output_type": "execute_result"
    }
   ],
   "source": [
    "iter"
   ]
  },
  {
   "cell_type": "code",
   "execution_count": null,
   "metadata": {},
   "outputs": [],
   "source": []
  },
  {
   "cell_type": "code",
   "execution_count": 27,
   "metadata": {},
   "outputs": [
    {
     "data": {
      "text/html": [
       "<div>\n",
       "<style scoped>\n",
       "    .dataframe tbody tr th:only-of-type {\n",
       "        vertical-align: middle;\n",
       "    }\n",
       "\n",
       "    .dataframe tbody tr th {\n",
       "        vertical-align: top;\n",
       "    }\n",
       "\n",
       "    .dataframe thead th {\n",
       "        text-align: right;\n",
       "    }\n",
       "</style>\n",
       "<table border=\"1\" class=\"dataframe\">\n",
       "  <thead>\n",
       "    <tr style=\"text-align: right;\">\n",
       "      <th></th>\n",
       "      <th>county</th>\n",
       "      <th>cases</th>\n",
       "      <th>deaths</th>\n",
       "    </tr>\n",
       "  </thead>\n",
       "  <tbody>\n",
       "    <tr>\n",
       "      <th>0</th>\n",
       "      <td>Abbeville</td>\n",
       "      <td>84</td>\n",
       "      <td>0</td>\n",
       "    </tr>\n",
       "    <tr>\n",
       "      <th>1</th>\n",
       "      <td>Acadia</td>\n",
       "      <td>741</td>\n",
       "      <td>21</td>\n",
       "    </tr>\n",
       "    <tr>\n",
       "      <th>2</th>\n",
       "      <td>Accomack</td>\n",
       "      <td>116</td>\n",
       "      <td>0</td>\n",
       "    </tr>\n",
       "    <tr>\n",
       "      <th>3</th>\n",
       "      <td>Ada</td>\n",
       "      <td>4264</td>\n",
       "      <td>41</td>\n",
       "    </tr>\n",
       "    <tr>\n",
       "      <th>4</th>\n",
       "      <td>Adair</td>\n",
       "      <td>325</td>\n",
       "      <td>8</td>\n",
       "    </tr>\n",
       "  </tbody>\n",
       "</table>\n",
       "</div>"
      ],
      "text/plain": [
       "      county  cases  deaths\n",
       "0  Abbeville     84       0\n",
       "1     Acadia    741      21\n",
       "2   Accomack    116       0\n",
       "3        Ada   4264      41\n",
       "4      Adair    325       8"
      ]
     },
     "execution_count": 27,
     "metadata": {},
     "output_type": "execute_result"
    }
   ],
   "source": []
  },
  {
   "cell_type": "code",
   "execution_count": 25,
   "metadata": {},
   "outputs": [
    {
     "data": {
      "text/plain": [
       "array([1.00000e+00, 5.30000e+01, 3.76000e+02, 8.68824e+05])"
      ]
     },
     "execution_count": 25,
     "metadata": {},
     "output_type": "execute_result"
    }
   ],
   "source": [
    "_, bins = pd.qcut(df.cases,3,retbins=True)\n",
    "bins"
   ]
  },
  {
   "cell_type": "code",
   "execution_count": 30,
   "metadata": {},
   "outputs": [
    {
     "data": {
      "text/plain": [
       "48187.12999999992"
      ]
     },
     "execution_count": 30,
     "metadata": {},
     "output_type": "execute_result"
    }
   ],
   "source": [
    "np.quantile(df.cases,0.99)"
   ]
  },
  {
   "cell_type": "code",
   "execution_count": 53,
   "metadata": {},
   "outputs": [
    {
     "data": {
      "text/plain": [
       "0.3333333333333333"
      ]
     },
     "execution_count": 53,
     "metadata": {},
     "output_type": "execute_result"
    }
   ],
   "source": [
    "k=3\n",
    "1/k"
   ]
  },
  {
   "cell_type": "code",
   "execution_count": 54,
   "metadata": {},
   "outputs": [
    {
     "name": "stdout",
     "output_type": "stream",
     "text": [
      "1\n",
      "0.33\n",
      "52.0\n",
      "2\n",
      "0.66\n",
      "364.0\n",
      "3\n",
      "0.99\n",
      "48187.12999999992\n"
     ]
    }
   ],
   "source": [
    "for k in range(1,k+1):\n",
    "    print(k)\n",
    "    print(0.33*k)\n",
    "    print(np.quantile(df.cases,0.33*k))"
   ]
  },
  {
   "cell_type": "code",
   "execution_count": 47,
   "metadata": {},
   "outputs": [
    {
     "name": "stdout",
     "output_type": "stream",
     "text": [
      "0.0\n",
      "0.0\n",
      "8.0\n"
     ]
    }
   ],
   "source": [
    "for k in range(0,k):\n",
    "    print(np.quantile(df.deaths,0.33*k))"
   ]
  },
  {
   "cell_type": "code",
   "execution_count": null,
   "metadata": {},
   "outputs": [],
   "source": []
  }
 ],
 "metadata": {
  "kernelspec": {
   "display_name": "Python [conda env:root] *",
   "language": "python",
   "name": "conda-root-py"
  },
  "language_info": {
   "codemirror_mode": {
    "name": "ipython",
    "version": 3
   },
   "file_extension": ".py",
   "mimetype": "text/x-python",
   "name": "python",
   "nbconvert_exporter": "python",
   "pygments_lexer": "ipython3",
   "version": "3.7.6"
  }
 },
 "nbformat": 4,
 "nbformat_minor": 4
}
