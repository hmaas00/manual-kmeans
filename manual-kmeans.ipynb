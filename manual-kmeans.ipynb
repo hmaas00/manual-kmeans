{
 "cells": [
  {
   "cell_type": "code",
   "execution_count": 318,
   "metadata": {},
   "outputs": [],
   "source": [
    "from sklearn.datasets import make_blobs\n",
    "import matplotlib.pyplot as plt\n",
    "\n",
    "from matplotlib import style\n",
    "style.use('ggplot')\n",
    "\n",
    "import numpy as np"
   ]
  },
  {
   "cell_type": "code",
   "execution_count": 361,
   "metadata": {},
   "outputs": [],
   "source": [
    "data,labels = make_blobs(n_samples=10000,n_features=2,cluster_std=1)"
   ]
  },
  {
   "cell_type": "code",
   "execution_count": 362,
   "metadata": {},
   "outputs": [
    {
     "data": {
      "image/png": "[encoded data removed]",
      "text/plain": [
       "<Figure size 432x288 with 1 Axes>"
      ]
     },
     "metadata": {},
     "output_type": "display_data"
    }
   ],
   "source": [
    "plt.scatter(data[:,0],data[:,1]);"
   ]
  },
  {
   "cell_type": "code",
   "execution_count": 372,
   "metadata": {},
   "outputs": [],
   "source": [
    "k = 3\n",
    "tol = 0.000000001\n",
    "max_iter = 300"
   ]
  },
  {
   "cell_type": "code",
   "execution_count": 373,
   "metadata": {},
   "outputs": [],
   "source": [
    "centroids = {}\n",
    "\n",
    "## inicializando os centroids com os 3 primeiros valores de data\n",
    "for i in range(k):\n",
    "    centroids[i] = data[i]"
   ]
  },
  {
   "cell_type": "code",
   "execution_count": 374,
   "metadata": {},
   "outputs": [
    {
     "name": "stdout",
     "output_type": "stream",
     "text": [
      "{0: array([-1.29079479, -8.28838212]), 1: array([5.10864983, 5.8794518 ]), 2: array([ 6.56477209, -4.97280327])}\n",
      "4.513734039181113\n",
      "{0: array([-1.29079479, -8.28838212]), 1: array([4.78343234, 8.22357811]), 2: array([ 6.51864127, -4.54932779])}\n",
      "33.503794471193075\n",
      "Optmized\n"
     ]
    },
    {
     "data": {
      "image/png": "[encoded data removed]",
      "text/plain": [
       "<Figure size 432x288 with 1 Axes>"
      ]
     },
     "metadata": {},
     "output_type": "display_data"
    }
   ],
   "source": [
    "for i in range(max_iter):\n",
    "    \n",
    "    classification = {}\n",
    "    \n",
    "    for i in range(k):\n",
    "        classification[i] = []\n",
    "        \n",
    "    for point in data:\n",
    "        distance = [math.sqrt((centroid[0] - point[0])**2 + (centroid[1] - point[1])**2) for centroid in centroids.values()]\n",
    "        point_label = np.argmin(distance)\n",
    "        classification[point_label].append(point)\n",
    "        \n",
    "    prev_centroids = dict(centroids)\n",
    "    \n",
    "    for label in classification:\n",
    "        centroids[label] = np.average(classification[label],axis=0)\n",
    "        \n",
    "    \n",
    "    optmized = True\n",
    "    \n",
    "    for label in centroids:\n",
    "        \n",
    "        original_centroid = prev_centroids[label]\n",
    "        \n",
    "        current_centroid = centroids[label]\n",
    "        \n",
    "        \n",
    "        if np.sum((current_centroid - original_centroid)/ original_centroid *100.0) > tol:\n",
    "            \n",
    "            print(centroids)\n",
    "            print(np.sum((current_centroid - original_centroid)/ original_centroid *100.0))\n",
    "            \n",
    "            \n",
    "            optmized = False\n",
    "    \n",
    "    if optmized:\n",
    "        print('Optmized')\n",
    "        \n",
    "        plt.scatter(data[:,0],data[:,1])\n",
    "        for label in centroids.values():\n",
    "            plt.scatter(x=label[0],y=label[1])\n",
    "        \n",
    "        break    "
   ]
  },
  {
   "cell_type": "code",
   "execution_count": null,
   "metadata": {},
   "outputs": [],
   "source": []
  },
  {
   "cell_type": "code",
   "execution_count": null,
   "metadata": {},
   "outputs": [],
   "source": []
  },
  {
   "cell_type": "code",
   "execution_count": null,
   "metadata": {},
   "outputs": [],
   "source": []
  },
  {
   "cell_type": "code",
   "execution_count": null,
   "metadata": {},
   "outputs": [],
   "source": []
  },
  {
   "cell_type": "code",
   "execution_count": null,
   "metadata": {},
   "outputs": [],
   "source": []
  },
  {
   "cell_type": "code",
   "execution_count": null,
   "metadata": {},
   "outputs": [],
   "source": []
  },
  {
   "cell_type": "code",
   "execution_count": null,
   "metadata": {},
   "outputs": [],
   "source": []
  }
 ],
 "metadata": {
  "kernelspec": {
   "display_name": "Python 3.7.5 64-bit ('base': conda)",
   "language": "python",
   "name": "python37564bitbaseconda1a5ffbacdca64cf4afc92f2f5ef3faed"
  },
  "language_info": {
   "codemirror_mode": {
    "name": "ipython",
    "version": 3
   },
   "file_extension": ".py",
   "mimetype": "text/x-python",
   "name": "python",
   "nbconvert_exporter": "python",
   "pygments_lexer": "ipython3",
   "version": "3.7.5"
  }
 },
 "nbformat": 4,
 "nbformat_minor": 4
}
